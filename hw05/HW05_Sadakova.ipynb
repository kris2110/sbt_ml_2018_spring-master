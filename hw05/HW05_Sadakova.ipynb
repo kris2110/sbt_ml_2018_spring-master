{
 "cells": [
  {
   "cell_type": "markdown",
   "metadata": {},
   "source": [
    "### Домашнее задание 5"
   ]
  },
  {
   "cell_type": "markdown",
   "metadata": {},
   "source": [
    "Напишите свою функцию определения качества модели по следующей метрике: максимальный precision, при условии, что $precision < 1.5 * recall$ и $recall > 0.5$ и определите наилучшее её значение, перебирая гиперпараметры по предложенной сетке"
   ]
  },
  {
   "cell_type": "markdown",
   "metadata": {},
   "source": [
    "Ответом на эту задачу является максимальное значение качества по предложенной метрике, округлённое до 4го знака"
   ]
  },
  {
   "cell_type": "code",
   "execution_count": 1,
   "metadata": {},
   "outputs": [
    {
     "name": "stdout",
     "output_type": "stream",
     "text": [
      "Accuracy best params and score\n",
      "\tParams: {'criterion': 'entropy', 'max_depth': None, 'n_estimators': 50}\n",
      "\tScore: 0.964850615114\n"
     ]
    }
   ],
   "source": [
    "from sklearn.model_selection import GridSearchCV\n",
    "from sklearn.metrics import make_scorer, precision_recall_curve\n",
    "from sklearn.ensemble import RandomForestClassifier\n",
    "from sklearn.datasets import load_breast_cancer\n",
    "\n",
    "param_grid = {\n",
    "    'n_estimators': [10, 20, 30, 40, 50],\n",
    "    'max_depth': [None, 5, 10, 15, 20],\n",
    "    'criterion': ['entropy', 'gini']\n",
    "}\n",
    "\n",
    "X_data, y_data = load_breast_cancer(return_X_y=True)\n",
    "\n",
    "estimator = RandomForestClassifier(random_state=42)\n",
    "\n",
    "print('Accuracy best params and score')\n",
    "result = GridSearchCV(estimator, param_grid, cv=3, scoring='accuracy').fit(X_data, y_data)\n",
    "print('\\tParams:', result.best_params_)\n",
    "print('\\tScore:', result.best_score_)"
   ]
  },
  {
   "cell_type": "code",
   "execution_count": 2,
   "metadata": {
    "collapsed": true
   },
   "outputs": [],
   "source": [
    "def my_scorer(y_true, y_pred):\n",
    "    precision, recall, _ = precision_recall_curve(y_true, y_pred[:, 1])\n",
    "    return max([p for p, r in zip(precision, recall) if p < 1.5 * r and r > 0.5])\n",
    "\n",
    "scorer = make_scorer(my_scorer, greater_is_better=True, needs_proba=True)"
   ]
  },
  {
   "cell_type": "code",
   "execution_count": 3,
   "metadata": {},
   "outputs": [
    {
     "name": "stdout",
     "output_type": "stream",
     "text": [
      "Custom loss best params and score\n",
      "\tParams: {'criterion': 'gini', 'max_depth': 5, 'n_estimators': 50}\n",
      "\tScore: 0.994201509037\n"
     ]
    }
   ],
   "source": [
    "print('Custom loss best params and score')\n",
    "result = GridSearchCV(estimator, param_grid, cv=3, scoring=scorer).fit(X_data, y_data)\n",
    "print('\\tParams:', result.best_params_)\n",
    "print('\\tScore:', result.best_score_)"
   ]
  },
  {
   "cell_type": "code",
   "execution_count": 4,
   "metadata": {},
   "outputs": [
    {
     "name": "stdout",
     "output_type": "stream",
     "text": [
      "0.9942\n"
     ]
    }
   ],
   "source": [
    "print(round(result.best_score_, 4))"
   ]
  }
 ],
 "metadata": {
  "kernelspec": {
   "display_name": "Python 3",
   "language": "python",
   "name": "python3"
  },
  "language_info": {
   "codemirror_mode": {
    "name": "ipython",
    "version": 3
   },
   "file_extension": ".py",
   "mimetype": "text/x-python",
   "name": "python",
   "nbconvert_exporter": "python",
   "pygments_lexer": "ipython3",
   "version": "3.6.3"
  }
 },
 "nbformat": 4,
 "nbformat_minor": 2
}
